{
 "cells": [
  {
   "cell_type": "code",
   "execution_count": 0,
   "metadata": {
    "application/vnd.databricks.v1+cell": {
     "cellMetadata": {
      "byteLimit": 2048000,
      "rowLimit": 10000
     },
     "inputWidgets": {},
     "nuid": "8d506141-9977-4cb7-95b9-bbc5395d7db3",
     "showTitle": true,
     "tableResultSettingsMap": {},
     "title": "Set up parameters for this notebook"
    }
   },
   "outputs": [],
   "source": [
    "dbutils.widgets.removeAll()\n",
    "dbutils.widgets.text(\"PRSS_run_name\", \"\")\n",
    "PRSS_run_name = dbutils.widgets.get(\"PRSS_run_name\")\n",
    "\n",
    "export_all_output = False\n",
    "debug = True"
   ]
  },
  {
   "cell_type": "code",
   "execution_count": 0,
   "metadata": {
    "application/vnd.databricks.v1+cell": {
     "cellMetadata": {
      "byteLimit": 2048000,
      "rowLimit": 10000
     },
     "inputWidgets": {},
     "nuid": "9ee5f03f-fea4-40e4-841f-ee74c528a319",
     "showTitle": true,
     "tableResultSettingsMap": {},
     "title": "Define PRSS gdx file to run"
    }
   },
   "outputs": [],
   "source": [
    "import re\n",
    "import os\n",
    "import glob\n",
    "import shutil\n",
    "import datetime as dt\n",
    "import pytz\n",
    "\n",
    "prss_folder = f\"/Volumes/ea_prd/sourcefiles/datalake/vspd/gdx/PRSS/\"\n",
    "\n",
    "if PRSS_run_name == \"\":\n",
    "  # Set New Zealand timezone\n",
    "  nz_tz = pytz.timezone(\"Pacific/Auckland\")\n",
    "  # Get current datetime in NZ time\n",
    "  now = dt.datetime.now(nz_tz)\n",
    "  # Round down to the last 30-minute mark\n",
    "  rounded = now.replace(minute=(now.minute // 30) * 30, second=0, microsecond=0).strftime(\"%Y%m%d%H%M\")\n",
    "  # Check if the PRSS run name exists\n",
    "  yyyymmdd = now.strftime(\"%Y%m%d\")\n",
    "  pattern = f\"{prss_folder}{yyyymmdd}/PRSS_{rounded}_*.gdx\"\n",
    "  files = glob.glob(pattern)\n",
    "  if files:\n",
    "    PRSS_file = files[0]\n",
    "  else:\n",
    "    dbutils.notebook.exit(\"File does not exist\") \n",
    "else:\n",
    "  # Extract the date part (yyyymmdd)\n",
    "  date_part = PRSS_run_name[5:13]  # Extracts the \"yyyymmdd\" part from the filename\n",
    "  # Create the new file path\n",
    "  PRSS_file = f\"{prss_folder}{date_part}/{PRSS_run_name}.gdx\"\n",
    "\n",
    "if PRSS_file:\n",
    "  print(\"File exists:\", PRSS_file)  # Print the first matching file\n",
    "else:\n",
    "  dbutils.notebook.exit(\"File does not exist\")\n"
   ]
  },
  {
   "cell_type": "code",
   "execution_count": 0,
   "metadata": {
    "application/vnd.databricks.v1+cell": {
     "cellMetadata": {
      "byteLimit": 2048000,
      "rowLimit": 10000
     },
     "inputWidgets": {},
     "nuid": "5a5382b5-cdc8-4835-8f9c-cf25a66518dd",
     "showTitle": true,
     "tableResultSettingsMap": {},
     "title": "Copy vSPD to temp"
    }
   },
   "outputs": [],
   "source": [
    "# src = \"/Volumes/ea_dev/sourcefiles/datalake/vSPD\"\n",
    "src = \"/Workspace/Users/tuong.nguyen@ea.govt.nz/vSPD\"\n",
    "dst = \"/tmp/vSPD\"\n",
    "shutil.copytree(src, dst,dirs_exist_ok=True)\n",
    "if debug: os.listdir('/tmp/vSPD')"
   ]
  },
  {
   "cell_type": "code",
   "execution_count": 0,
   "metadata": {
    "application/vnd.databricks.v1+cell": {
     "cellMetadata": {
      "byteLimit": 2048000,
      "rowLimit": 10000
     },
     "inputWidgets": {},
     "nuid": "b774a9ae-5889-4f94-b37e-2852c85efa11",
     "showTitle": true,
     "tableResultSettingsMap": {},
     "title": "Copy setting files"
    }
   },
   "outputs": [],
   "source": [
    "src_folder = PRSS_file.replace(\".gdx\",\"\")\n",
    "dst_folder = \"/tmp/vSPD/Programs/\"\n",
    "\n",
    "# Ensure the destination folder exists\n",
    "os.makedirs(dst_folder, exist_ok=True)\n",
    "\n",
    "# Loop through all files in the source folder\n",
    "for filename in os.listdir(src_folder):\n",
    "    src_file = os.path.join(src_folder, filename)\n",
    "    dst_file = os.path.join(dst_folder, filename)\n",
    "    \n",
    "    # If it's a file (not a directory), copy it\n",
    "    if os.path.isfile(src_file):\n",
    "        shutil.copy(src_file, dst_file)\n",
    "\n",
    "if debug: print(\"\\n\".join(os.listdir('/tmp/vSPD/Programs/')))"
   ]
  },
  {
   "cell_type": "code",
   "execution_count": 0,
   "metadata": {
    "application/vnd.databricks.v1+cell": {
     "cellMetadata": {
      "byteLimit": 2048000,
      "rowLimit": 10000
     },
     "inputWidgets": {},
     "nuid": "f56b7d5b-c921-4460-a09b-75538673ed08",
     "showTitle": true,
     "tableResultSettingsMap": {},
     "title": "Repalce \"\\\" by \"/\" in vSPDsettings.inc"
    }
   },
   "outputs": [],
   "source": [
    "file_path = '/tmp/vSPD/Programs/vSPDsettings.inc'\n",
    "with open(file_path, \"r\") as file: content = file.read().replace(\"\\\\\", \"/\")\n",
    "with open(file_path, \"w\") as file: file.write(content)\n",
    "if debug: os.system(\"cat /tmp/vSPD/Programs/vSPDsettings.inc\")"
   ]
  },
  {
   "cell_type": "code",
   "execution_count": 0,
   "metadata": {
    "application/vnd.databricks.v1+cell": {
     "cellMetadata": {
      "byteLimit": 2048000,
      "rowLimit": 10000
     },
     "inputWidgets": {},
     "nuid": "60be1179-a1e9-4c4d-a11e-6d6ded0d425d",
     "showTitle": true,
     "tableResultSettingsMap": {},
     "title": "Copy gdx files"
    }
   },
   "outputs": [],
   "source": [
    "dst_file = os.path.join(\"/tmp/vSPD/Input/\", os.path.basename(PRSS_file))\n",
    "shutil.copy(PRSS_file, dst_file)\n",
    "if debug: \n",
    "  print(\"\\n\".join(os.listdir(\"/tmp/vSPD/Input/\")))"
   ]
  },
  {
   "cell_type": "code",
   "execution_count": 0,
   "metadata": {
    "application/vnd.databricks.v1+cell": {
     "cellMetadata": {
      "byteLimit": 2048000,
      "rowLimit": 10000
     },
     "inputWidgets": {},
     "nuid": "6e883b99-7e7d-4a27-a688-69bb4b346a38",
     "showTitle": true,
     "tableResultSettingsMap": {},
     "title": "Run GAMS"
    }
   },
   "outputs": [],
   "source": [
    "import subprocess\n",
    "\n",
    "programs_dir = '/tmp/vSPD/Programs'\n",
    "os.chdir(programs_dir)\n",
    "\n",
    "# Path to your GAMS executable\n",
    "gams_path = '/dbfs/GAMS/gams48.6_linux_x64_64_sfx/gams'\n",
    "\n",
    "# Command to run\n",
    "command = f\"{gams_path} runvSPD.gms\"\n",
    "\n",
    "# Run the command using subprocess\n",
    "subprocess.run(command, shell=True, check=True, capture_output=True)"
   ]
  },
  {
   "cell_type": "code",
   "execution_count": 0,
   "metadata": {
    "application/vnd.databricks.v1+cell": {
     "cellMetadata": {
      "byteLimit": 2048000,
      "rowLimit": 10000
     },
     "inputWidgets": {},
     "nuid": "4929c830-68a6-42e6-b37f-39da889a3625",
     "showTitle": true,
     "tableResultSettingsMap": {},
     "title": "Copy Outputs to Destination"
    }
   },
   "outputs": [],
   "source": [
    "# Copy NodePriceSensitivity output file to destination\n",
    "\n",
    "src_file = f\"/tmp/vSPD/Output/{os.path.basename(src_folder)}/{os.path.basename(src_folder)}_NodePriceSensitivity.csv\"\n",
    "dst_folder = f\"/Volumes/ea_dev/sourcefiles/datalake/vSPDDemandPriceSensitivityNode/\"\n",
    "os.makedirs(dst_folder, exist_ok=True)\n",
    "dst_file = f\"{dst_folder}{os.path.basename(src_folder)}_NodePriceSensitivity.csv\"\n",
    "shutil.copy(src_file, dst_file)\n",
    "\n",
    "# Copy IslandSensitivity output file to destination\n",
    "src_file = f\"/tmp/vSPD/Output/{os.path.basename(src_folder)}/{os.path.basename(src_folder)}_IslandSensitivity.csv\"\n",
    "dst_folder = f\"/Volumes/ea_dev/sourcefiles/datalake/vSPDDemandPriceSensitivityIsland/\"\n",
    "os.makedirs(dst_folder, exist_ok=True)\n",
    "dst_file = f\"{dst_folder}{os.path.basename(src_folder)}_IslandSensitivity.csv\"\n",
    "shutil.copy(src_file, dst_file)\n"
   ]
  },
  {
   "cell_type": "code",
   "execution_count": 0,
   "metadata": {
    "application/vnd.databricks.v1+cell": {
     "cellMetadata": {
      "byteLimit": 2048000,
      "rowLimit": 10000
     },
     "inputWidgets": {},
     "nuid": "194faf19-688e-407b-b3f7-2969d63168f7",
     "showTitle": false,
     "tableResultSettingsMap": {},
     "title": ""
    }
   },
   "outputs": [],
   "source": [
    "dbutils.notebook.exit(\"Done\")"
   ]
  },
  {
   "cell_type": "markdown",
   "metadata": {
    "application/vnd.databricks.v1+cell": {
     "cellMetadata": {
      "byteLimit": 2048000,
      "rowLimit": 10000
     },
     "inputWidgets": {},
     "nuid": "4e60ea58-b022-4fc6-abb8-8f02cc3c4a74",
     "showTitle": false,
     "tableResultSettingsMap": {},
     "title": ""
    }
   },
   "source": [
    "#TEST CODE"
   ]
  }
 ],
 "metadata": {
  "application/vnd.databricks.v1+notebook": {
   "computePreferences": null,
   "dashboards": [],
   "environmentMetadata": {
    "base_environment": "",
    "environment_version": "2"
   },
   "language": "python",
   "notebookMetadata": {
    "mostRecentlyExecutedCommandWithImplicitDF": {
     "commandId": 3044251473803270,
     "dataframes": [
      "_sqldf"
     ]
    },
    "pythonIndentUnit": 2
   },
   "notebookName": "Run_vSPD_PriceLoadSensitivity",
   "widgets": {
    "PRSS_run_name": {
     "currentValue": "PRSS_202503211300_211302025030000012_20250321130302",
     "nuid": "bd660ba5-3b31-40dc-914c-bfd2f2c0e0fc",
     "typedWidgetInfo": {
      "autoCreated": false,
      "defaultValue": "",
      "label": null,
      "name": "PRSS_run_name",
      "options": {
       "widgetDisplayType": "Text",
       "validationRegex": null
      },
      "parameterDataType": "String"
     },
     "widgetInfo": {
      "widgetType": "text",
      "defaultValue": "",
      "label": null,
      "name": "PRSS_run_name",
      "options": {
       "widgetType": "text",
       "autoCreated": null,
       "validationRegex": null
      }
     }
    }
   }
  },
  "language_info": {
   "name": "python"
  }
 },
 "nbformat": 4,
 "nbformat_minor": 0
}
