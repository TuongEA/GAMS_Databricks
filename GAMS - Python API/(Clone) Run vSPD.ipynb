{
 "cells": [
  {
   "cell_type": "code",
   "execution_count": 0,
   "metadata": {
    "application/vnd.databricks.v1+cell": {
     "cellMetadata": {
      "byteLimit": 2048000,
      "rowLimit": 10000
     },
     "inputWidgets": {},
     "nuid": "5a5382b5-cdc8-4835-8f9c-cf25a66518dd",
     "showTitle": true,
     "tableResultSettingsMap": {},
     "title": "Copy vSPD to temp"
    }
   },
   "outputs": [],
   "source": [
    "import os\n",
    "import shutil\n",
    "# src = \"/Volumes/ea_dev/sourcefiles/datalake/vSPD\"\n",
    "src = \"/Workspace/Users/tuong.nguyen@ea.govt.nz/vSPD\"\n",
    "dst = \"/tmp/vSPD\"\n",
    "\n",
    "shutil.copytree(src, dst,dirs_exist_ok=True)\n",
    "os.listdir('/tmp/vSPD')"
   ]
  },
  {
   "cell_type": "code",
   "execution_count": 0,
   "metadata": {
    "application/vnd.databricks.v1+cell": {
     "cellMetadata": {
      "byteLimit": 2048000,
      "rowLimit": 10000
     },
     "inputWidgets": {},
     "nuid": "0942987f-b118-4cee-9e19-927720c51b50",
     "showTitle": false,
     "tableResultSettingsMap": {},
     "title": ""
    }
   },
   "outputs": [],
   "source": [
    "# src = \"/Workspace/Users/tuong.nguyen@ea.govt.nz/vSPD/Programs/vSPDsettings.inc\"\n",
    "# dst = \"/tmp/vSPD/Programs/vSPDsettings.inc\"\n",
    "# shutil.copy(src, dst)\n",
    "\n",
    "# src = \"/Workspace/Users/tuong.nguyen@ea.govt.nz/vSPD/Programs/vSPDfileList.inc\"\n",
    "# dst = \"/tmp/vSPD/Programs/vSPDfileList.inc\"\n",
    "# shutil.copy(src, dst)"
   ]
  },
  {
   "cell_type": "code",
   "execution_count": 0,
   "metadata": {
    "application/vnd.databricks.v1+cell": {
     "cellMetadata": {
      "byteLimit": 2048000,
      "rowLimit": 10000
     },
     "inputWidgets": {},
     "nuid": "b774a9ae-5889-4f94-b37e-2852c85efa11",
     "showTitle": true,
     "tableResultSettingsMap": {},
     "title": "Copy setting files"
    }
   },
   "outputs": [],
   "source": [
    "src_folder = \"/Volumes/ea_prd/sourcefiles/datalake/vspd/gdx/vspd_daily_run_settings/20250313/\"\n",
    "dst_folder = \"/tmp/vSPD/Programs/\"\n",
    "\n",
    "# Ensure the destination folder exists\n",
    "os.makedirs(dst_folder, exist_ok=True)\n",
    "\n",
    "# Loop through all files in the source folder\n",
    "for filename in os.listdir(src_folder):\n",
    "    src_file = os.path.join(src_folder, filename)\n",
    "    dst_file = os.path.join(dst_folder, filename)\n",
    "    \n",
    "    # If it's a file (not a directory), copy it\n",
    "    if os.path.isfile(src_file):\n",
    "        shutil.copy(src_file, dst_file)\n"
   ]
  },
  {
   "cell_type": "code",
   "execution_count": 0,
   "metadata": {
    "application/vnd.databricks.v1+cell": {
     "cellMetadata": {
      "byteLimit": 2048000,
      "rowLimit": 10000
     },
     "inputWidgets": {},
     "nuid": "000fbcb7-0c7a-4a7f-a3f2-edd66faeac19",
     "showTitle": true,
     "tableResultSettingsMap": {},
     "title": "Repalce \"\\\" by \"/\" in mergeGDXsettings.inc"
    }
   },
   "outputs": [],
   "source": [
    "import fileinput\n",
    "\n",
    "# Define the file path\n",
    "file_path = '/tmp/vSPD/Programs/mergeGDXsettings.inc'\n",
    "\n",
    "# Define the new line to replace the old line\n",
    "new_line = \"$setglobal inputPath     '%system.fp%../Input/'  ! Location of daily gdx file\"\n",
    "\n",
    "# Using fileinput to replace the line in place\n",
    "for line in fileinput.input(file_path, inplace=True):\n",
    "    if line.startswith('$setglobal inputPath'):\n",
    "        # Write the new line, without the need for manual file writing (it handles it automatically)\n",
    "        print(new_line)\n",
    "    else:\n",
    "        # Write the existing line back to the file\n",
    "        print(line, end=\"\")\n",
    "\n",
    "print(\"Line replaced successfully!\")\n",
    "\n",
    "os.system(\"cat /tmp/vSPD/Programs/mergeGDXsettings.inc\")"
   ]
  },
  {
   "cell_type": "code",
   "execution_count": 0,
   "metadata": {
    "application/vnd.databricks.v1+cell": {
     "cellMetadata": {
      "byteLimit": 2048000,
      "rowLimit": 10000
     },
     "inputWidgets": {},
     "nuid": "7b787519-ca47-432c-958b-e324e90e206c",
     "showTitle": false,
     "tableResultSettingsMap": {},
     "title": ""
    }
   },
   "outputs": [],
   "source": [
    "import pandas as pd\n",
    "csv_file_path = '/tmp/vSPD/Programs/gdxlist.csv'\n",
    "# Read the CSV into a DataFrame\n",
    "df = pd.read_csv(csv_file_path,header=None)\n",
    "\n",
    "# Convert the DataFrame to a list of lists (one list per row)\n",
    "gdxlist = df.values.tolist()\n",
    "\n",
    "print(gdxlist)  # Display the list"
   ]
  },
  {
   "cell_type": "code",
   "execution_count": 0,
   "metadata": {
    "application/vnd.databricks.v1+cell": {
     "cellMetadata": {
      "byteLimit": 2048000,
      "rowLimit": 10000
     },
     "inputWidgets": {},
     "nuid": "60be1179-a1e9-4c4d-a11e-6d6ded0d425d",
     "showTitle": true,
     "tableResultSettingsMap": {},
     "title": "Copy gdx files"
    }
   },
   "outputs": [],
   "source": [
    "src_folder = \"/Volumes/ea_prd/sourcefiles/datalake/vspd/gdx/RTD/20250313/\"\n",
    "dst_folder = \"/tmp/vSPD/Input/20250313\"\n",
    "os.makedirs(dst_folder, exist_ok=True)\n",
    "\n",
    "# Loop through all files in the RTD folder and copy all\n",
    "for filename in os.listdir(src_folder):\n",
    "    src_file = os.path.join(src_folder, filename)\n",
    "    dst_file = os.path.join(dst_folder, filename)\n",
    "    \n",
    "    # If it's a file (not a directory), copy it\n",
    "    if os.path.isfile(src_file):\n",
    "        shutil.copy(src_file, dst_file)\n",
    "\n",
    "\n",
    "src_folder = \"/Volumes/ea_prd/sourcefiles/datalake/vspd/gdx/PRSS/20250313/\"\n",
    "dst_folder = \"/tmp/vSPD/Input/\"\n",
    "# Loop through all files in the PRSS folder and copy only required file\n",
    "for filename in os.listdir(src_folder):\n",
    "    src_file = os.path.join(src_folder, filename)\n",
    "    dst_file = os.path.join(dst_folder, filename)\n",
    "    \n",
    "    # If it's a file (not a directory), copy it\n",
    "    if filename in gdxlist:\n",
    "        shutil.copy(src_file, dst_file)\n",
    "\n",
    "src_folder = \"/Volumes/ea_prd/sourcefiles/datalake/vspd/gdx/PRSS/20250312/\"\n",
    "dst_folder = \"/tmp/vSPD/Input/\"\n",
    "# Loop through all files in the PRSS folder and copy only required file\n",
    "for filename in os.listdir(src_folder):\n",
    "    src_file = os.path.join(src_folder, filename)\n",
    "    dst_file = os.path.join(dst_folder, filename)\n",
    "    \n",
    "    # If it's a file (not a directory), copy it\n",
    "    if filename in gdxlist:\n",
    "        shutil.copy(src_file, dst_file)"
   ]
  },
  {
   "cell_type": "code",
   "execution_count": 0,
   "metadata": {
    "application/vnd.databricks.v1+cell": {
     "cellMetadata": {
      "byteLimit": 2048000,
      "rowLimit": 10000
     },
     "inputWidgets": {},
     "nuid": "6a2a1c68-cac4-4cea-b6ce-519cb73104a6",
     "showTitle": false,
     "tableResultSettingsMap": {},
     "title": ""
    }
   },
   "outputs": [],
   "source": [
    "os.listdir(\"/tmp/vSPD/Input/20250313/\")"
   ]
  },
  {
   "cell_type": "code",
   "execution_count": 0,
   "metadata": {
    "application/vnd.databricks.v1+cell": {
     "cellMetadata": {
      "byteLimit": 2048000,
      "rowLimit": 10000
     },
     "inputWidgets": {},
     "nuid": "5225c441-c58f-469b-bb0c-b87b1282494e",
     "showTitle": false,
     "tableResultSettingsMap": {},
     "title": ""
    }
   },
   "outputs": [],
   "source": [
    "# os.system(\"cat /tmp/vSPD/Programs/vSPDsettings.inc\")\n",
    "# os.system(\"cat /tmp/vSPD/Programs/vSPDfileList.inc\")\n",
    "# os.system(\"cat /tmp/vSPD/Programs/mergeGDXsettings.inc\")\n",
    "# os.system(\"cat /tmp/vSPD/Programs/gdxlist.csv\")\n",
    "# os.system(\"cat /tmp/vSPD/Programs/pricing_case_files.inc\")"
   ]
  },
  {
   "cell_type": "code",
   "execution_count": 0,
   "metadata": {
    "application/vnd.databricks.v1+cell": {
     "cellMetadata": {
      "byteLimit": 2048000,
      "rowLimit": 10000
     },
     "inputWidgets": {},
     "nuid": "6e883b99-7e7d-4a27-a688-69bb4b346a38",
     "showTitle": true,
     "tableResultSettingsMap": {},
     "title": "run GAMS from tmp"
    }
   },
   "outputs": [],
   "source": [
    "import subprocess\n",
    "\n",
    "programs_dir = '/tmp/vSPD/Programs'\n",
    "os.chdir(programs_dir)\n",
    "\n",
    "# Path to your GAMS executable\n",
    "gams_path = '/dbfs/GAMS/gams48.6_linux_x64_64_sfx/gams'\n",
    "\n",
    "# Command to run\n",
    "command = f\"{gams_path} merge_gdx.gms\"\n",
    "\n",
    "# Run the command using subprocess\n",
    "subprocess.run(command, shell=True, check=True, capture_output=True)\n",
    "\n",
    "# Command to run\n",
    "command = f\"{gams_path} runvSPD.gms\"\n",
    "\n",
    "# Run the command using subprocess\n",
    "subprocess.run(command, shell=True, check=True)"
   ]
  },
  {
   "cell_type": "code",
   "execution_count": 0,
   "metadata": {
    "application/vnd.databricks.v1+cell": {
     "cellMetadata": {
      "byteLimit": 2048000,
      "rowLimit": 10000
     },
     "inputWidgets": {},
     "nuid": "4929c830-68a6-42e6-b37f-39da889a3625",
     "showTitle": false,
     "tableResultSettingsMap": {},
     "title": ""
    }
   },
   "outputs": [],
   "source": [
    "os.system(\"cat /tmp/vSPD/Programs/mergeGDXsettings.inc\")\n",
    "os.system(\"cat /tmp/vSPD/Programs/merge_gdx.lst\")"
   ]
  },
  {
   "cell_type": "code",
   "execution_count": 0,
   "metadata": {
    "application/vnd.databricks.v1+cell": {
     "cellMetadata": {
      "byteLimit": 2048000,
      "rowLimit": 10000
     },
     "inputWidgets": {},
     "nuid": "9e8988d2-62ff-4a80-a93e-34c6f26a4082",
     "showTitle": false,
     "tableResultSettingsMap": {},
     "title": ""
    }
   },
   "outputs": [],
   "source": [
    "os.listdir(\"/tmp/vSPD/Output/PRSS_202503141630_141302025030330839_20250314163302/\")"
   ]
  },
  {
   "cell_type": "code",
   "execution_count": 0,
   "metadata": {
    "application/vnd.databricks.v1+cell": {
     "cellMetadata": {
      "byteLimit": 2048000,
      "rowLimit": 10000
     },
     "inputWidgets": {},
     "nuid": "4c27801c-499b-458c-b1e6-693cd4a20a3e",
     "showTitle": false,
     "tableResultSettingsMap": {},
     "title": ""
    }
   },
   "outputs": [],
   "source": [
    "os.system(\"cat /tmp/vSPD/Output/PRSS_202503141630_141302025030330839_20250314163302/ProgressReport.txt\")"
   ]
  },
  {
   "cell_type": "code",
   "execution_count": 0,
   "metadata": {
    "application/vnd.databricks.v1+cell": {
     "cellMetadata": {
      "byteLimit": 2048000,
      "rowLimit": 10000
     },
     "inputWidgets": {},
     "nuid": "ead818d1-cd8a-41db-9c5a-2a47ba9bebe6",
     "showTitle": true,
     "tableResultSettingsMap": {},
     "title": "Run Gams using Python API - not rneccessary."
    }
   },
   "outputs": [],
   "source": [
    "import subprocess\n",
    "import sys\n",
    "\n",
    "def install(package):\n",
    "    subprocess.check_call([sys.executable, \"-m\", \"pip\", \"install\", package])\n",
    "\n",
    "def update_package(package):\n",
    "    subprocess.check_call([sys.executable, \"-m\", \"pip\", \"install\", \"--upgrade\", package])\n",
    "\n",
    "update_package(\"pip\")\n",
    "install(\"gamsapi\")\n",
    "install(\"gamsapi[transfer]==48.6.1\")  \n",
    "\n",
    "import os\n",
    "import gams\n",
    "import re\n",
    "\n",
    "# Define vSPD path\n",
    "vSPDDir = os.getcwd()\n",
    "ProgramsDir = os.path.join(vSPDDir, 'Programs')\n",
    "\n",
    "# Define the GAMS directory path\n",
    "gams_dir = \"/Volumes/ea_dev/sourcefiles/datalake/GAMS/gams48.6_linux_x64_64_sfx\"\n",
    "# gams_dir = \"/dbfs/GAMS/gams48.6_linux_x64_64_sfx\"\n",
    "\n",
    "print('GAMS software directory:', gams_dir)\n",
    "print('vSPD directory:', vSPDDir)\n",
    "print('vSPD programs directory:', ProgramsDir)\n",
    "\n",
    "ws = gams.GamsWorkspace(system_directory=gams_dir, \n",
    "                        working_directory=ProgramsDir, \n",
    "                        debug=gams.DebugLevel.KeepFilesOnError)\n",
    "model = ws.add_job_from_file(os.path.join(ProgramsDir, 'runvSPD.gms'))\n",
    "\n",
    "try:\n",
    "    model.run()\n",
    "except gams.control.workspace.GamsExceptionExecution as e:\n",
    "    listing_file = os.path.join(ws.working_directory, \"_gams_py_gjo0.lst\")\n",
    "    with open(listing_file, 'r') as file:\n",
    "        print(file.read())\n",
    "    raise e"
   ]
  },
  {
   "cell_type": "code",
   "execution_count": 0,
   "metadata": {
    "application/vnd.databricks.v1+cell": {
     "cellMetadata": {
      "byteLimit": 2048000,
      "rowLimit": 10000
     },
     "inputWidgets": {},
     "nuid": "2c3575a0-db07-4897-95de-525905da2b50",
     "showTitle": true,
     "tableResultSettingsMap": {},
     "title": "Run Gams from External Location - vSPD on Workspace - working"
    }
   },
   "outputs": [],
   "source": [
    "# %sh\n",
    "# /Volumes/ea_dev/sourcefiles/datalake/GAMS/gams48.6_linux_x64_64_sfx/gams runvSPD.gms\n",
    "\n",
    "import os\n",
    "import subprocess\n",
    "\n",
    "programs_dir = '/Workspace/Users/tuong.nguyen@ea.govt.nz/vSPD/Programs'\n",
    "os.chdir(programs_dir)\n",
    "\n",
    "# Path to your GAMS executable\n",
    "gams_path = '/Volumes/ea_dev/sourcefiles/datalake/GAMS/gams48.6_linux_x64_64_sfx/gams'\n",
    "\n",
    "# Command to run\n",
    "command = f\"{gams_path} runvSPD.gms\"\n",
    "\n",
    "# Run the command using subprocess\n",
    "subprocess.run(command, shell=True, check=True)"
   ]
  },
  {
   "cell_type": "code",
   "execution_count": 0,
   "metadata": {
    "application/vnd.databricks.v1+cell": {
     "cellMetadata": {
      "byteLimit": 2048000,
      "rowLimit": 10000
     },
     "inputWidgets": {},
     "nuid": "81d4e332-dbb7-4a07-a707-d795491ef971",
     "showTitle": true,
     "tableResultSettingsMap": {},
     "title": "Run Gams from DBFS - vSPD on Workspace - working (15% faster)"
    }
   },
   "outputs": [],
   "source": [
    "# %sh\n",
    "# /dbfs/GAMS/gams48.6_linux_x64_64_sfx/gams runvSPD.gms\n",
    "\n",
    "import os\n",
    "import subprocess\n",
    "\n",
    "programs_dir = '/Workspace/Users/tuong.nguyen@ea.govt.nz/vSPD/Programs'\n",
    "os.chdir(programs_dir)\n",
    "\n",
    "# Path to your GAMS executable\n",
    "gams_path = '/dbfs/GAMS/gams48.6_linux_x64_64_sfx/gams'\n",
    "# Command to run\n",
    "command = f\"{gams_path} runvSPD.gms\"\n",
    "\n",
    "# Run the command using subprocess\n",
    "subprocess.run(command, shell=True, check=True)"
   ]
  },
  {
   "cell_type": "code",
   "execution_count": 0,
   "metadata": {
    "application/vnd.databricks.v1+cell": {
     "cellMetadata": {
      "byteLimit": 2048000,
      "rowLimit": 10000
     },
     "inputWidgets": {},
     "nuid": "3dcd65cd-3bba-4169-b325-8a339e0d9592",
     "showTitle": true,
     "tableResultSettingsMap": {},
     "title": "Copy vSPD on to Cluster"
    }
   },
   "outputs": [],
   "source": [
    "import os\n",
    "os.getcwd()\n"
   ]
  },
  {
   "cell_type": "code",
   "execution_count": 0,
   "metadata": {
    "application/vnd.databricks.v1+cell": {
     "cellMetadata": {
      "byteLimit": 2048000,
      "rowLimit": 10000
     },
     "inputWidgets": {},
     "nuid": "3884856f-8f9e-4bbf-ace7-7f6124d4ffef",
     "showTitle": true,
     "tableResultSettingsMap": {},
     "title": "Run Gams from DBFS - vSPD on external location - not working"
    }
   },
   "outputs": [],
   "source": [
    "import os\n",
    "import subprocess\n",
    "\n",
    "programs_dir = '/Volumes/ea_dev/sourcefiles/datalake/vSPD/Programs'\n",
    "os.chdir(programs_dir)\n",
    "\n",
    "# Path to your GAMS executable\n",
    "gams_path = '/dbfs/GAMS/gams48.6_linux_x64_64_sfx/gams'\n",
    "# Command to run\n",
    "command = f\"{gams_path} runvSPD.gms\"\n",
    "\n",
    "# Run the command using subprocess\n",
    "subprocess.run(command, shell=True, check=True)"
   ]
  },
  {
   "cell_type": "code",
   "execution_count": 0,
   "metadata": {
    "application/vnd.databricks.v1+cell": {
     "cellMetadata": {
      "byteLimit": 2048000,
      "rowLimit": 10000
     },
     "inputWidgets": {},
     "nuid": "1996ca2c-46c2-45d6-b890-584bdceeba26",
     "showTitle": true,
     "tableResultSettingsMap": {},
     "title": "Run Gams from DBFS - vSPD DBFS - not working"
    }
   },
   "outputs": [],
   "source": [
    "import os\n",
    "import subprocess\n",
    "\n",
    "programs_dir = 'dbfs/vSPD/Programs'\n",
    "os.chdir(programs_dir)\n",
    "\n",
    "# Path to your GAMS executable\n",
    "gams_path = '/dbfs/GAMS/gams48.6_linux_x64_64_sfx/gams'\n",
    "# Command to run\n",
    "command = f\"{gams_path} runvSPD.gms\"\n",
    "\n",
    "# Run the command using subprocess\n",
    "subprocess.run(command, shell=True, check=True)"
   ]
  }
 ],
 "metadata": {
  "application/vnd.databricks.v1+notebook": {
   "computePreferences": null,
   "dashboards": [],
   "environmentMetadata": {
    "base_environment": "",
    "environment_version": "2"
   },
   "language": "python",
   "notebookMetadata": {
    "mostRecentlyExecutedCommandWithImplicitDF": {
     "commandId": 3044251473803270,
     "dataframes": [
      "_sqldf"
     ]
    },
    "pythonIndentUnit": 2
   },
   "notebookName": "(Clone) Run vSPD",
   "widgets": {}
  },
  "language_info": {
   "name": "python"
  }
 },
 "nbformat": 4,
 "nbformat_minor": 0
}
