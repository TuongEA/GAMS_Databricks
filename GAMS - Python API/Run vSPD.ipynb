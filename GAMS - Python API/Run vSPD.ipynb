{
 "cells": [
  {
   "cell_type": "code",
   "execution_count": 0,
   "metadata": {
    "application/vnd.databricks.v1+cell": {
     "cellMetadata": {
      "byteLimit": 2048000,
      "rowLimit": 10000
     },
     "collapsed": true,
     "inputWidgets": {},
     "nuid": "ead818d1-cd8a-41db-9c5a-2a47ba9bebe6",
     "showTitle": true,
     "tableResultSettingsMap": {},
     "title": "Run Gams using Python API - not rneccessary."
    }
   },
   "outputs": [],
   "source": [
    "import subprocess\n",
    "import sys\n",
    "\n",
    "def install(package):\n",
    "    subprocess.check_call([sys.executable, \"-m\", \"pip\", \"install\", package])\n",
    "\n",
    "def update_package(package):\n",
    "    subprocess.check_call([sys.executable, \"-m\", \"pip\", \"install\", \"--upgrade\", package])\n",
    "\n",
    "update_package(\"pip\")\n",
    "install(\"gamsapi\")\n",
    "install(\"gamsapi[transfer]==48.6.1\")  \n",
    "\n",
    "import os\n",
    "import gams\n",
    "import re\n",
    "\n",
    "# Define vSPD path\n",
    "vSPDDir = os.getcwd()\n",
    "ProgramsDir = os.path.join(vSPDDir, 'Programs')\n",
    "\n",
    "# Define the GAMS directory path\n",
    "gams_dir = \"/Volumes/ea_dev/sourcefiles/datalake/GAMS/gams48.6_linux_x64_64_sfx\"\n",
    "# gams_dir = \"/dbfs/GAMS/gams48.6_linux_x64_64_sfx\"\n",
    "\n",
    "print('GAMS software directory:', gams_dir)\n",
    "print('vSPD directory:', vSPDDir)\n",
    "print('vSPD programs directory:', ProgramsDir)\n",
    "\n",
    "ws = gams.GamsWorkspace(system_directory=gams_dir, \n",
    "                        working_directory=ProgramsDir, \n",
    "                        debug=gams.DebugLevel.KeepFilesOnError)\n",
    "model = ws.add_job_from_file(os.path.join(ProgramsDir, 'runvSPD.gms'))\n",
    "\n",
    "try:\n",
    "    model.run()\n",
    "except gams.control.workspace.GamsExceptionExecution as e:\n",
    "    listing_file = os.path.join(ws.working_directory, \"_gams_py_gjo0.lst\")\n",
    "    with open(listing_file, 'r') as file:\n",
    "        print(file.read())\n",
    "    raise e"
   ]
  },
  {
   "cell_type": "code",
   "execution_count": 0,
   "metadata": {
    "application/vnd.databricks.v1+cell": {
     "cellMetadata": {
      "byteLimit": 2048000,
      "rowLimit": 10000
     },
     "inputWidgets": {},
     "nuid": "2c3575a0-db07-4897-95de-525905da2b50",
     "showTitle": true,
     "tableResultSettingsMap": {},
     "title": "Run Gams from External Location - vSPD on Workspace - working"
    }
   },
   "outputs": [],
   "source": [
    "# %sh\n",
    "# /Volumes/ea_dev/sourcefiles/datalake/GAMS/gams48.6_linux_x64_64_sfx/gams runvSPD.gms\n",
    "\n",
    "import os\n",
    "import subprocess\n",
    "\n",
    "programs_dir = '/Workspace/Users/tuong.nguyen@ea.govt.nz/vSPD_Workspace/Programs'\n",
    "os.chdir(programs_dir)\n",
    "\n",
    "# Path to your GAMS executable\n",
    "gams_path = '/Volumes/ea_dev/sourcefiles/datalake/GAMS/gams48.6_linux_x64_64_sfx/gams'\n",
    "\n",
    "# Command to run\n",
    "command = f\"{gams_path} runvSPD.gms\"\n",
    "\n",
    "# Run the command using subprocess\n",
    "subprocess.run(command, shell=True, check=True)"
   ]
  },
  {
   "cell_type": "code",
   "execution_count": 0,
   "metadata": {
    "application/vnd.databricks.v1+cell": {
     "cellMetadata": {
      "byteLimit": 2048000,
      "rowLimit": 10000
     },
     "collapsed": true,
     "inputWidgets": {},
     "nuid": "81d4e332-dbb7-4a07-a707-d795491ef971",
     "showTitle": true,
     "tableResultSettingsMap": {},
     "title": "Run Gams from DBFS - vSPD on Workspace - working"
    }
   },
   "outputs": [],
   "source": [
    "# %sh\n",
    "# /dbfs/GAMS/gams48.6_linux_x64_64_sfx/gams runvSPD.gms\n",
    "\n",
    "import os\n",
    "import subprocess\n",
    "\n",
    "programs_dir = '/Workspace/Users/tuong.nguyen@ea.govt.nz/vSPD_Workspace/Programs'\n",
    "programs_dir = '/Workspace/Users/tuong.nguyen@ea.govt.nz/vSPD/Programs'\n",
    "os.chdir(programs_dir)\n",
    "\n",
    "# Path to your GAMS executable\n",
    "gams_path = '/dbfs/GAMS/gams48.6_linux_x64_64_sfx/gams'\n",
    "# Command to run\n",
    "command = f\"{gams_path} runvSPD.gms\"\n",
    "\n",
    "# Run the command using subprocess\n",
    "subprocess.run(command, shell=True, check=True)"
   ]
  },
  {
   "cell_type": "code",
   "execution_count": 0,
   "metadata": {
    "application/vnd.databricks.v1+cell": {
     "cellMetadata": {
      "byteLimit": 2048000,
      "rowLimit": 10000
     },
     "inputWidgets": {},
     "nuid": "3884856f-8f9e-4bbf-ace7-7f6124d4ffef",
     "showTitle": true,
     "tableResultSettingsMap": {},
     "title": "Run Gams from DBFS - vSPD on external location - not working"
    }
   },
   "outputs": [],
   "source": [
    "import os\n",
    "import subprocess\n",
    "\n",
    "programs_dir = '/Volumes/ea_dev/sourcefiles/datalake/vSPD/Programs'\n",
    "os.chdir(programs_dir)\n",
    "\n",
    "# Path to your GAMS executable\n",
    "gams_path = '/dbfs/GAMS/gams48.6_linux_x64_64_sfx/gams'\n",
    "# Command to run\n",
    "command = f\"{gams_path} runvSPD.gms\"\n",
    "\n",
    "# Run the command using subprocess\n",
    "subprocess.run(command, shell=True, check=True)"
   ]
  },
  {
   "cell_type": "code",
   "execution_count": 0,
   "metadata": {
    "application/vnd.databricks.v1+cell": {
     "cellMetadata": {
      "byteLimit": 2048000,
      "rowLimit": 10000
     },
     "inputWidgets": {},
     "nuid": "1996ca2c-46c2-45d6-b890-584bdceeba26",
     "showTitle": true,
     "tableResultSettingsMap": {},
     "title": "Run Gams from DBFS - vSPD DBFS - not working"
    }
   },
   "outputs": [],
   "source": [
    "import os\n",
    "import subprocess\n",
    "\n",
    "programs_dir = 'dbfs/vSPD/Programs'\n",
    "os.chdir(programs_dir)\n",
    "\n",
    "# Path to your GAMS executable\n",
    "gams_path = '/dbfs/GAMS/gams48.6_linux_x64_64_sfx/gams'\n",
    "# Command to run\n",
    "command = f\"{gams_path} runvSPD.gms\"\n",
    "\n",
    "# Run the command using subprocess\n",
    "subprocess.run(command, shell=True, check=True)"
   ]
  }
 ],
 "metadata": {
  "application/vnd.databricks.v1+notebook": {
   "computePreferences": null,
   "dashboards": [],
   "environmentMetadata": {
    "base_environment": "",
    "environment_version": "2"
   },
   "language": "python",
   "notebookMetadata": {
    "mostRecentlyExecutedCommandWithImplicitDF": {
     "commandId": 3044251473803270,
     "dataframes": [
      "_sqldf"
     ]
    },
    "pythonIndentUnit": 2
   },
   "notebookName": "Run vSPD",
   "widgets": {}
  },
  "language_info": {
   "name": "python"
  }
 },
 "nbformat": 4,
 "nbformat_minor": 0
}
