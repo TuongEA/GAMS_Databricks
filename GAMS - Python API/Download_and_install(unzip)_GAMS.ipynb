{
 "cells": [
  {
   "cell_type": "code",
   "execution_count": 0,
   "metadata": {
    "application/vnd.databricks.v1+cell": {
     "cellMetadata": {
      "byteLimit": 2048000,
      "rowLimit": 10000
     },
     "inputWidgets": {},
     "nuid": "22c1fe19-39ef-4d20-a1e4-861e535145f1",
     "showTitle": true,
     "tableResultSettingsMap": {},
     "title": "Set up widgets and parameters"
    }
   },
   "outputs": [],
   "source": [
    "dbutils.widgets.dropdown(name=\"gams_version\",  defaultValue=\"latest\", choices=[\"latest\"] + [str(i) for i in range(49, 41, -1)], label=\"GAMS Version\")\n",
    "gams_version = dbutils.widgets.get(\"gams_version\")\n",
    "\n",
    "gams_dir = \"/dbfs/GAMS\"\n",
    "gams_dir = \"/Volumes/ea_dev/sourcefiles/datalake/GAMS\""
   ]
  },
  {
   "cell_type": "code",
   "execution_count": 0,
   "metadata": {
    "application/vnd.databricks.v1+cell": {
     "cellMetadata": {
      "byteLimit": 2048000,
      "rowLimit": 10000
     },
     "inputWidgets": {},
     "nuid": "826c15a8-970d-45f7-b970-faa911755447",
     "showTitle": true,
     "tableResultSettingsMap": {},
     "title": "Install web scraping package"
    }
   },
   "outputs": [],
   "source": [
    "%pip install bs4"
   ]
  },
  {
   "cell_type": "code",
   "execution_count": 0,
   "metadata": {
    "application/vnd.databricks.v1+cell": {
     "cellMetadata": {
      "byteLimit": 2048000,
      "rowLimit": 10000
     },
     "inputWidgets": {},
     "nuid": "d235ec6a-42d4-48c5-ac15-bfcb2ed4fd29",
     "showTitle": true,
     "tableResultSettingsMap": {},
     "title": "Import required packages"
    }
   },
   "outputs": [],
   "source": [
    "import hashlib\n",
    "import requests\n",
    "import os\n",
    "from bs4 import BeautifulSoup\n",
    "import zipfile\n",
    "import re"
   ]
  },
  {
   "cell_type": "code",
   "execution_count": 0,
   "metadata": {
    "application/vnd.databricks.v1+cell": {
     "cellMetadata": {
      "byteLimit": 2048000,
      "rowLimit": 10000
     },
     "inputWidgets": {},
     "nuid": "3e3e3a79-d4ce-4e12-a1a7-2926367fdbeb",
     "showTitle": true,
     "tableResultSettingsMap": {},
     "title": "Function used to download and install GAMS linux"
    }
   },
   "outputs": [],
   "source": [
    "def GetGAMSLinuxInstall(version = 0):\n",
    "    # This defines the URL of the webpage that the script will request.\n",
    "    if version == 0:\n",
    "        url = \"https://www.gams.com/download/\"\n",
    "    else:\n",
    "        url = f\"https://www.gams.com/{version}/\"\n",
    "    \n",
    "    # Sends an HTTP GET request to fetch the content of the webpage. The response contains the HTML source code of the page.\n",
    "    response = requests.get(url)\n",
    "\n",
    "    # Raises an error (HTTPError) if the request fails (e.g., 404 Not Found, 500 Server Error).\n",
    "    response.raise_for_status()\n",
    "\n",
    "    # Parses the HTML content of the webpage using BeautifulSoup\n",
    "    soup = BeautifulSoup(response.text, 'html.parser')\n",
    "\n",
    "    # Finds all <button> elements on the page. The result is a list of <button> elements found in the HTML.\n",
    "    buttons = soup.find_all('button')\n",
    "\n",
    "    # This snippet extracts the first button that contains a data-href attribute with \"linux\" in its URL.\n",
    "    button_link = [button['data-href'] for button in buttons if 'data-href' in button.attrs and 'linux' in button['data-href'].lower()]\n",
    "    button_link = button_link[0]\n",
    "    \n",
    "    return button_link  \n",
    "\n",
    "def download_file(url, local_path):\n",
    "    # Ensure the directory exists\n",
    "    os.makedirs(os.path.dirname(local_path), exist_ok=True)\n",
    "\n",
    "    # Download the file\n",
    "    response = requests.get(url)\n",
    "    response.raise_for_status()\n",
    "    \n",
    "    # Save the file locally\n",
    "    with open(local_path, 'wb') as file:\n",
    "        file.write(response.content)\n",
    "    \n",
    "    print(f\"File downloaded: {local_path}\")\n",
    "\n",
    "def unzip_file(file_path, extract_to): # this function is used to unzip the downloaded file\n",
    "    with zipfile.ZipFile(file_path, 'r') as zip_ref:\n",
    "        zip_ref.extractall(extract_to)\n",
    "    print(f\"File unzipped to: {extract_to}\")"
   ]
  },
  {
   "cell_type": "code",
   "execution_count": 0,
   "metadata": {
    "application/vnd.databricks.v1+cell": {
     "cellMetadata": {
      "byteLimit": 2048000,
      "rowLimit": 10000
     },
     "inputWidgets": {},
     "nuid": "c8ba7c5d-c338-4d01-9cd9-78fdcbac26e3",
     "showTitle": true,
     "tableResultSettingsMap": {},
     "title": "Download GAMS to a local location"
    }
   },
   "outputs": [],
   "source": [
    "url = GetGAMSLinuxInstall(version=gams_version)\n",
    "gamsversion = re.search(r'/distributions/([^/]+)/linux', url)\n",
    "local_path = f\"{gams_dir}/gamsDownload.exe\"\n",
    "download_file(url, local_path)\n"
   ]
  },
  {
   "cell_type": "code",
   "execution_count": 0,
   "metadata": {
    "application/vnd.databricks.v1+cell": {
     "cellMetadata": {
      "byteLimit": 2048000,
      "rowLimit": 10000
     },
     "inputWidgets": {},
     "nuid": "69430fda-9dc9-42b0-86cb-90bb5b7809e4",
     "showTitle": true,
     "tableResultSettingsMap": {},
     "title": "Install GAMS to a local location"
    }
   },
   "outputs": [],
   "source": [
    "# unzip/install GAM to this \"/dbfs/GAMS\" folder\n",
    "unzip_file(file_path=local_path, extract_to=gams_dir)"
   ]
  },
  {
   "cell_type": "code",
   "execution_count": 0,
   "metadata": {
    "application/vnd.databricks.v1+cell": {
     "cellMetadata": {
      "byteLimit": 2048000,
      "rowLimit": 10000
     },
     "inputWidgets": {},
     "nuid": "97cb675b-3019-4a25-abb4-9ffea0b8dc2d",
     "showTitle": true,
     "tableResultSettingsMap": {},
     "title": "Copy GAMS license (need to know the location of GAMS version)"
    }
   },
   "outputs": [],
   "source": [
    "for f in os.listdir(gams_dir):\n",
    "  if f.startswith('gams'):\n",
    "    print(f)\n",
    "    dbutils.fs.cp('/Volumes/ea_dev/sourcefiles/datalake/GAMS/gamslice.txt', f'{gams_dir}/{f}/'.replace('/dbfs', 'dbfs:'))"
   ]
  },
  {
   "cell_type": "code",
   "execution_count": 0,
   "metadata": {
    "application/vnd.databricks.v1+cell": {
     "cellMetadata": {
      "byteLimit": 2048000,
      "rowLimit": 10000
     },
     "inputWidgets": {},
     "nuid": "710d5a24-555d-415f-8a33-73d4b63a7057",
     "showTitle": true,
     "tableResultSettingsMap": {},
     "title": "Delete Dowloaded file"
    }
   },
   "outputs": [],
   "source": [
    "dbutils.fs.rm(f\"{gams_dir.replace('/dbfs', 'dbfs:')}/gamsDownload.exe\")"
   ]
  }
 ],
 "metadata": {
  "application/vnd.databricks.v1+notebook": {
   "computePreferences": null,
   "dashboards": [],
   "environmentMetadata": {
    "base_environment": "",
    "environment_version": "1"
   },
   "language": "python",
   "notebookMetadata": {
    "mostRecentlyExecutedCommandWithImplicitDF": {
     "commandId": -1,
     "dataframes": [
      "_sqldf"
     ]
    },
    "pythonIndentUnit": 2
   },
   "notebookName": "Download_and_install(unzip)_GAMS",
   "widgets": {
    "gams_version": {
     "currentValue": "42",
     "nuid": "195a54a7-926a-4ec2-8d66-95971f826dd2",
     "typedWidgetInfo": {
      "autoCreated": false,
      "defaultValue": "latest",
      "label": "GAMS Version",
      "name": "gams_version",
      "options": {
       "widgetDisplayType": "Dropdown",
       "choices": [
        "latest",
        "49",
        "48",
        "47",
        "46",
        "45",
        "44",
        "43",
        "42"
       ],
       "fixedDomain": true,
       "multiselect": false
      },
      "parameterDataType": "String"
     },
     "widgetInfo": {
      "widgetType": "dropdown",
      "defaultValue": "latest",
      "label": "GAMS Version",
      "name": "gams_version",
      "options": {
       "widgetType": "dropdown",
       "autoCreated": null,
       "choices": [
        "latest",
        "49",
        "48",
        "47",
        "46",
        "45",
        "44",
        "43",
        "42"
       ]
      }
     }
    }
   }
  },
  "language_info": {
   "name": "python"
  }
 },
 "nbformat": 4,
 "nbformat_minor": 0
}
