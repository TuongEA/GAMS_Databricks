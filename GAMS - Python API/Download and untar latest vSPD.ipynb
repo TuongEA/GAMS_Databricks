{
 "cells": [
  {
   "cell_type": "code",
   "execution_count": 0,
   "metadata": {
    "application/vnd.databricks.v1+cell": {
     "cellMetadata": {},
     "inputWidgets": {},
     "nuid": "09834fd8-430a-4fd9-a85c-c53929b6f693",
     "showTitle": false,
     "tableResultSettingsMap": {},
     "title": ""
    }
   },
   "outputs": [],
   "source": [
    "vSPDGitName = 'ElectricityAuthority-vSPD'"
   ]
  },
  {
   "cell_type": "code",
   "execution_count": 0,
   "metadata": {
    "application/vnd.databricks.v1+cell": {
     "cellMetadata": {
      "byteLimit": 2048000,
      "rowLimit": 10000
     },
     "inputWidgets": {},
     "nuid": "3ed91479-0b19-4634-8aad-bb73fe566d6d",
     "showTitle": false,
     "tableResultSettingsMap": {},
     "title": ""
    }
   },
   "outputs": [],
   "source": [
    "import requests\n",
    "import os\n",
    "\n",
    "url = \"https://api.github.com/repos/ElectricityAuthority/vSPD/releases/latest\"\n",
    "vSPDDir = \"/Volumes/datahub/marketmonitoring/marketmonitoring/Corey/Programs/vspd_latest.tar.gz\"\n",
    "vSPDGitName = 'ElectricityAuthority-vSPD'\n",
    "\n",
    "os.makedirs(os.path.dirname(vSPDDir), exist_ok=True)\n",
    "\n",
    "response = requests.get(url)\n",
    "latest_release = response.json()\n",
    "download_url = latest_release['tarball_url']\n",
    "\n",
    "vspd_tar_gz = requests.get(download_url)\n",
    "with open(vSPDDir, \"wb\") as file:\n",
    "    file.write(vspd_tar_gz.content)"
   ]
  },
  {
   "cell_type": "code",
   "execution_count": 0,
   "metadata": {
    "application/vnd.databricks.v1+cell": {
     "cellMetadata": {
      "byteLimit": 2048000,
      "rowLimit": 10000
     },
     "inputWidgets": {},
     "nuid": "5dae4dab-c681-4d0a-b7d4-446243e0b2fe",
     "showTitle": false,
     "tableResultSettingsMap": {},
     "title": ""
    }
   },
   "outputs": [],
   "source": [
    "import tarfile\n",
    "\n",
    "def untar_file(file_path, extract_to):\n",
    "    with tarfile.open(file_path, 'r:gz') as tar_ref:\n",
    "        tar_ref.extractall(extract_to)\n",
    "    print(f\"File extracted to: {extract_to}\")\n",
    "\n",
    "# Assuming vSPDDir is the file to be unzipped and it is in the same directory\n",
    "extract_to = os.path.dirname(vSPDDir)\n",
    "untar_file(vSPDDir, extract_to)"
   ]
  }
 ],
 "metadata": {
  "application/vnd.databricks.v1+notebook": {
   "computePreferences": null,
   "dashboards": [],
   "environmentMetadata": {
    "base_environment": "",
    "environment_version": "1"
   },
   "language": "python",
   "notebookMetadata": {
    "pythonIndentUnit": 2
   },
   "notebookName": "Download and untar latest vSPD",
   "widgets": {}
  },
  "language_info": {
   "name": "python"
  }
 },
 "nbformat": 4,
 "nbformat_minor": 0
}
