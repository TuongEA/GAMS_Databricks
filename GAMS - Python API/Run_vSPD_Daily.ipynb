{
 "cells": [
  {
   "cell_type": "code",
   "execution_count": 0,
   "metadata": {
    "application/vnd.databricks.v1+cell": {
     "cellMetadata": {
      "byteLimit": 2048000,
      "rowLimit": 10000
     },
     "inputWidgets": {},
     "nuid": "8d506141-9977-4cb7-95b9-bbc5395d7db3",
     "showTitle": true,
     "tableResultSettingsMap": {},
     "title": "Set up parameters for this notebook"
    }
   },
   "outputs": [],
   "source": [
    "dbutils.widgets.text(\"yyyymmdd\", \"\")\n",
    "yyyymmdd = dbutils.widgets.get(\"yyyymmdd\")\n",
    "\n",
    "export_all_output = False\n",
    "debug = True"
   ]
  },
  {
   "cell_type": "code",
   "execution_count": 0,
   "metadata": {
    "application/vnd.databricks.v1+cell": {
     "cellMetadata": {
      "byteLimit": 2048000,
      "rowLimit": 10000
     },
     "inputWidgets": {},
     "nuid": "9ee5f03f-fea4-40e4-841f-ee74c528a319",
     "showTitle": true,
     "tableResultSettingsMap": {},
     "title": "Define date for daily run"
    }
   },
   "outputs": [],
   "source": [
    "import re\n",
    "import os\n",
    "import shutil\n",
    "import datetime as dt\n",
    "import pytz\n",
    "\n",
    "nz_tz = pytz.timezone(\"Pacific/Auckland\")\n",
    "def is_valid_yyyymmdd(date_str):\n",
    "    return bool(re.fullmatch(r\"\\d{4}(0[1-9]|1[0-2])(0[1-9]|[12]\\d|3[01])\", date_str))\n",
    "\n",
    "if not is_valid_yyyymmdd(yyyymmdd): yyyymmdd = (dt.datetime.now(nz_tz) - dt.timedelta(days=1)).strftime(\"%Y%m%d\")\n",
    "\n",
    "print(f\"Daily run for date: {yyyymmdd}\")"
   ]
  },
  {
   "cell_type": "code",
   "execution_count": 0,
   "metadata": {
    "application/vnd.databricks.v1+cell": {
     "cellMetadata": {
      "byteLimit": 2048000,
      "rowLimit": 10000
     },
     "inputWidgets": {},
     "nuid": "5a5382b5-cdc8-4835-8f9c-cf25a66518dd",
     "showTitle": true,
     "tableResultSettingsMap": {},
     "title": "Copy vSPD to temp"
    }
   },
   "outputs": [],
   "source": [
    "# src = \"/Volumes/ea_dev/sourcefiles/datalake/vSPD\"\n",
    "src = \"/Workspace/Users/tuong.nguyen@ea.govt.nz/vSPD\"\n",
    "dst = \"/tmp/vSPD\"\n",
    "shutil.copytree(src, dst,dirs_exist_ok=True)\n",
    "if debug: os.listdir('/tmp/vSPD')"
   ]
  },
  {
   "cell_type": "code",
   "execution_count": 0,
   "metadata": {
    "application/vnd.databricks.v1+cell": {
     "cellMetadata": {
      "byteLimit": 2048000,
      "rowLimit": 10000
     },
     "inputWidgets": {},
     "nuid": "b774a9ae-5889-4f94-b37e-2852c85efa11",
     "showTitle": true,
     "tableResultSettingsMap": {},
     "title": "Copy setting files"
    }
   },
   "outputs": [],
   "source": [
    "src_folder = f\"/Volumes/ea_prd/sourcefiles/datalake/vspd/gdx/vspd_daily_run_settings/{yyyymmdd}/\"\n",
    "dst_folder = \"/tmp/vSPD/Programs/\"\n",
    "\n",
    "# Ensure the destination folder exists\n",
    "os.makedirs(dst_folder, exist_ok=True)\n",
    "\n",
    "# Loop through all files in the source folder\n",
    "for filename in os.listdir(src_folder):\n",
    "    src_file = os.path.join(src_folder, filename)\n",
    "    dst_file = os.path.join(dst_folder, filename)\n",
    "    \n",
    "    # If it's a file (not a directory), copy it\n",
    "    if os.path.isfile(src_file):\n",
    "        shutil.copy(src_file, dst_file)\n",
    "\n",
    "if debug: os.listdir('/tmp/vSPD/Programs/')"
   ]
  },
  {
   "cell_type": "code",
   "execution_count": 0,
   "metadata": {
    "application/vnd.databricks.v1+cell": {
     "cellMetadata": {
      "byteLimit": 2048000,
      "rowLimit": 10000
     },
     "inputWidgets": {},
     "nuid": "000fbcb7-0c7a-4a7f-a3f2-edd66faeac19",
     "showTitle": true,
     "tableResultSettingsMap": {},
     "title": "Repalce \"\\\" by \"/\" in mergeGDXsettings.inc"
    }
   },
   "outputs": [],
   "source": [
    "# Define the file path\n",
    "file_path = '/tmp/vSPD/Programs/mergeGDXsettings.inc'\n",
    "with open(file_path, \"r\") as file: content = file.read().replace(\"\\\\\", \"/\")\n",
    "with open(file_path, \"w\") as file: file.write(content)\n",
    "if debug: os.system(\"cat /tmp/vSPD/Programs/mergeGDXsettings.inc\")"
   ]
  },
  {
   "cell_type": "code",
   "execution_count": 0,
   "metadata": {
    "application/vnd.databricks.v1+cell": {
     "cellMetadata": {
      "byteLimit": 2048000,
      "rowLimit": 10000
     },
     "inputWidgets": {},
     "nuid": "f56b7d5b-c921-4460-a09b-75538673ed08",
     "showTitle": true,
     "tableResultSettingsMap": {},
     "title": "Repalce \"\\\" by \"/\" invSPDsettings.inc"
    }
   },
   "outputs": [],
   "source": [
    "file_path = '/tmp/vSPD/Programs/vSPDsettings.inc'\n",
    "with open(file_path, \"r\") as file: content = file.read().replace(\"\\\\\", \"/\")\n",
    "with open(file_path, \"w\") as file: file.write(content)\n",
    "if debug: os.system(\"cat /tmp/vSPD/Programs/vSPDsettings.inc\")"
   ]
  },
  {
   "cell_type": "code",
   "execution_count": 0,
   "metadata": {
    "application/vnd.databricks.v1+cell": {
     "cellMetadata": {
      "byteLimit": 2048000,
      "rowLimit": 10000
     },
     "inputWidgets": {},
     "nuid": "7b787519-ca47-432c-958b-e324e90e206c",
     "showTitle": true,
     "tableResultSettingsMap": {},
     "title": "Get the list of gdx files used for daily gdx"
    }
   },
   "outputs": [],
   "source": [
    "import pandas as pd\n",
    "csv_file_path = '/tmp/vSPD/Programs/gdxlist.csv'\n",
    "\n",
    "# Read the CSV into a DataFrame\n",
    "df = pd.read_csv(csv_file_path,header=None)\n",
    "\n",
    "# Convert the DataFrame to a list of lists (one list per row)\n",
    "gdxlist = df.values.tolist()\n",
    "gdxlist1 = [item for sublist in gdxlist for item in sublist]\n",
    "if debug:\n",
    "  print(\"\\n\".join(gdxlist1))"
   ]
  },
  {
   "cell_type": "code",
   "execution_count": 0,
   "metadata": {
    "application/vnd.databricks.v1+cell": {
     "cellMetadata": {
      "byteLimit": 2048000,
      "rowLimit": 10000
     },
     "inputWidgets": {},
     "nuid": "60be1179-a1e9-4c4d-a11e-6d6ded0d425d",
     "showTitle": true,
     "tableResultSettingsMap": {},
     "title": "Copy gdx files"
    }
   },
   "outputs": [],
   "source": [
    "src_folder = \"/Volumes/ea_prd/sourcefiles/datalake/vspd/gdx/RTD/20250313/\"\n",
    "dst_folder = \"/tmp/vSPD/Input/20250313\"\n",
    "os.makedirs(dst_folder, exist_ok=True)\n",
    "\n",
    "# Loop through all files in the RTD folder and copy all\n",
    "for filename in os.listdir(src_folder):\n",
    "    src_file = os.path.join(src_folder, filename)\n",
    "    dst_file = os.path.join(dst_folder, filename)\n",
    "    \n",
    "    # If it's a file (not a directory), copy it\n",
    "    if os.path.isfile(src_file):\n",
    "        shutil.copy(src_file, dst_file)\n",
    "\n",
    "\n",
    "src_folder = \"/Volumes/ea_prd/sourcefiles/datalake/vspd/gdx/PRSS/20250313/\"\n",
    "dst_folder = \"/tmp/vSPD/Input/\"\n",
    "# Loop through all files in the PRSS folder and copy only required file\n",
    "for filename in os.listdir(src_folder):\n",
    "    src_file = os.path.join(src_folder, filename)\n",
    "    dst_file = os.path.join(dst_folder, filename)\n",
    "    \n",
    "    # If it's a file (not a directory), copy it\n",
    "    if filename in gdxlist:\n",
    "        shutil.copy(src_file, dst_file)\n",
    "\n",
    "src_folder = \"/Volumes/ea_prd/sourcefiles/datalake/vspd/gdx/PRSS/20250312/\"\n",
    "dst_folder = \"/tmp/vSPD/Input/\"\n",
    "# Loop through all files in the PRSS folder and copy only required file\n",
    "for filename in os.listdir(src_folder):\n",
    "    src_file = os.path.join(src_folder, filename)\n",
    "    dst_file = os.path.join(dst_folder, filename)\n",
    "    \n",
    "    # If it's a file (not a directory), copy it\n",
    "    if filename in gdxlist:\n",
    "        shutil.copy(src_file, dst_file)\n",
    "\n",
    "if debug: \n",
    "  print(\"\\n\".join(os.listdir(\"/tmp/vSPD/Input/20250313/\")))"
   ]
  },
  {
   "cell_type": "code",
   "execution_count": 0,
   "metadata": {
    "application/vnd.databricks.v1+cell": {
     "cellMetadata": {
      "byteLimit": 2048000,
      "rowLimit": 10000
     },
     "inputWidgets": {},
     "nuid": "6e883b99-7e7d-4a27-a688-69bb4b346a38",
     "showTitle": true,
     "tableResultSettingsMap": {},
     "title": "Run GAMS"
    }
   },
   "outputs": [],
   "source": [
    "import subprocess\n",
    "\n",
    "programs_dir = '/tmp/vSPD/Programs'\n",
    "os.chdir(programs_dir)\n",
    "\n",
    "# Path to your GAMS executable\n",
    "gams_path = '/dbfs/GAMS/gams48.6_linux_x64_64_sfx/gams'\n",
    "\n",
    "# Command to run\n",
    "command = f\"{gams_path} merge_gdx.gms\"\n",
    "\n",
    "# Run the command using subprocess\n",
    "subprocess.run(command, shell=True, check=True, capture_output=True)\n",
    "\n",
    "# Command to run\n",
    "command = f\"{gams_path} runvSPD.gms\"\n",
    "\n",
    "# Run the command using subprocess\n",
    "subprocess.run(command, shell=True, check=True)"
   ]
  },
  {
   "cell_type": "code",
   "execution_count": 0,
   "metadata": {
    "application/vnd.databricks.v1+cell": {
     "cellMetadata": {
      "byteLimit": 2048000,
      "rowLimit": 10000
     },
     "inputWidgets": {},
     "nuid": "4929c830-68a6-42e6-b37f-39da889a3625",
     "showTitle": true,
     "tableResultSettingsMap": {},
     "title": "Copy Outputs to Destination"
    }
   },
   "outputs": [],
   "source": [
    "dst_folder = f\"/Volumes/ea_dev/sourcefiles/datalake/vspd/gdx/vspd_daily_output/{yyyymmdd}/\"\n",
    "os.makedirs(dst_folder, exist_ok=True)\n",
    "\n",
    "# Copy gdx input file to destination\n",
    "src_file = f\"/tmp/vSPD/Input/Pricing_{yyyymmdd}.gdx\"\n",
    "dst_file = os.path.join(dst_folder,f\"Pricing_{yyyymmdd}.gdx\")\n",
    "shutil.copy(src_file, dst_file)\n",
    "\n",
    "# Copy gdx input file to destination\n",
    "src_file = f\"/tmp/vSPD/Programs/lst/Pricing_{yyyymmdd}.lst\"\n",
    "dst_file = os.path.join(dst_folder,f\"Pricing_{yyyymmdd}.lst\")\n",
    "shutil.copy(src_file, dst_file)\n",
    "\n",
    "# Copy all output files to destination\n",
    "src_folder = f\"/tmp/vSPD/Output/daily_check_{yyyymmdd}\"\n",
    "\n",
    "if export_all_output:\n",
    "  shutil.copytree(src_folder, dst_folder, dirs_exist_ok=True)\n",
    "else:\n",
    "  # Loop through all files in the source folder\n",
    "  for filename in os.listdir(src_folder):\n",
    "    src_file = os.path.join(src_folder, filename)\n",
    "    dst_file = os.path.join(dst_folder, filename)\n",
    "    \n",
    "    # If it's a file (not a directory), copy it\n",
    "    if os.path.isfile(src_file):\n",
    "      shutil.copy(src_file, dst_file)\n",
    "\n",
    "if debug: os.listdir('/tmp/vSPD/Programs/')"
   ]
  },
  {
   "cell_type": "code",
   "execution_count": 0,
   "metadata": {
    "application/vnd.databricks.v1+cell": {
     "cellMetadata": {
      "byteLimit": 2048000,
      "rowLimit": 10000
     },
     "inputWidgets": {},
     "nuid": "194faf19-688e-407b-b3f7-2969d63168f7",
     "showTitle": false,
     "tableResultSettingsMap": {},
     "title": ""
    }
   },
   "outputs": [],
   "source": [
    "dbutils.notebook.exit(\"Done\")"
   ]
  },
  {
   "cell_type": "markdown",
   "metadata": {
    "application/vnd.databricks.v1+cell": {
     "cellMetadata": {
      "byteLimit": 2048000,
      "rowLimit": 10000
     },
     "inputWidgets": {},
     "nuid": "4e60ea58-b022-4fc6-abb8-8f02cc3c4a74",
     "showTitle": false,
     "tableResultSettingsMap": {},
     "title": ""
    }
   },
   "source": [
    "#TEST CODE"
   ]
  },
  {
   "cell_type": "code",
   "execution_count": 0,
   "metadata": {
    "application/vnd.databricks.v1+cell": {
     "cellMetadata": {
      "byteLimit": 2048000,
      "rowLimit": 10000
     },
     "inputWidgets": {},
     "nuid": "0942987f-b118-4cee-9e19-927720c51b50",
     "showTitle": false,
     "tableResultSettingsMap": {},
     "title": ""
    }
   },
   "outputs": [],
   "source": [
    "if debug: \n",
    "  os.system(\"cat /tmp/vSPD/Programs/vSPDsettings.inc\")\n",
    "  os.system(\"cat /tmp/vSPD/Programs/vSPDfileList.inc\")\n",
    "  os.system(\"cat /tmp/vSPD/Programs/mergeGDXsettings.inc\")\n",
    "  os.system(\"cat /tmp/vSPD/Programs/gdxlist.csv\")\n",
    "  os.system(\"cat /tmp/vSPD/Programs/pricing_case_files.inc\")"
   ]
  }
 ],
 "metadata": {
  "application/vnd.databricks.v1+notebook": {
   "computePreferences": null,
   "dashboards": [],
   "environmentMetadata": {
    "base_environment": "",
    "environment_version": "2"
   },
   "language": "python",
   "notebookMetadata": {
    "mostRecentlyExecutedCommandWithImplicitDF": {
     "commandId": 3044251473803270,
     "dataframes": [
      "_sqldf"
     ]
    },
    "pythonIndentUnit": 2
   },
   "notebookName": "Run_vSPD_Daily",
   "widgets": {
    "yyyymmdd": {
     "currentValue": "20250313",
     "nuid": "9f53fa87-bfec-433c-93a5-22932cb1278d",
     "typedWidgetInfo": {
      "autoCreated": false,
      "defaultValue": "",
      "label": null,
      "name": "yyyymmdd",
      "options": {
       "widgetDisplayType": "Text",
       "validationRegex": null
      },
      "parameterDataType": "String"
     },
     "widgetInfo": {
      "widgetType": "text",
      "defaultValue": "",
      "label": null,
      "name": "yyyymmdd",
      "options": {
       "widgetType": "text",
       "autoCreated": null,
       "validationRegex": null
      }
     }
    }
   }
  },
  "language_info": {
   "name": "python"
  }
 },
 "nbformat": 4,
 "nbformat_minor": 0
}
